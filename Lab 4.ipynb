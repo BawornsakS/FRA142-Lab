{
 "cells": [
  {
   "cell_type": "markdown",
   "metadata": {},
   "source": [
    "# Lab 4: Sorting Algorithm"
   ]
  },
  {
   "cell_type": "markdown",
   "metadata": {},
   "source": [
    "## Objective"
   ]
  },
  {
   "cell_type": "markdown",
   "metadata": {},
   "source": [
    "<ul>\n",
    "<li>สร้าง Sorting algorithm</li>"
   ]
  },
  {
   "cell_type": "markdown",
   "metadata": {},
   "source": [
    "ในแลปนี้จะให้ทำการสร้าง Algorithm ในการ sort object ของคลาส LinkedList โดยจะเป็นในรูปแบบ Bubble, Insertion, Quick sort ซึ่งสามารถดูตัวอย่างได้จากลิ้งค์ดังกล่าว\n",
    "    \n",
    "Bubble Sort: https://www.youtube.com/watch?v=nmhjrI-aW5o\n",
    "\n",
    "Insertion Sort: https://www.youtube.com/watch?v=OGzPmgsI-pQ\n",
    "\n",
    "Quick Sort: https://www.youtube.com/watch?v=PgBzjlCcFvc\n",
    "\n",
    "\n",
    "<ul>\n",
    "<li>สร้างไฟล์ Python ชื่อว่า Sort.py สำหรับสร้างคลาส Sort, Bubble</li>\n",
    "<li>สร้าง Contructor ดังต่อไปนี้</li>"
   ]
  },
  {
   "cell_type": "code",
   "execution_count": null,
   "metadata": {},
   "outputs": [],
   "source": [
    "class Sort:\n",
    "    def __init__(self,LinkedList):\n",
    "        self.linkedlist = LinkedList\n",
    "        self.history = [str(LinkedList)]\n",
    "    def __str__():\n",
    "        return self.history\n",
    "\n",
    "class Bubble(Sort):\n",
    "    def __init__(self,LinkedList):\n",
    "        Sort.__init__(self, LinkedList)\n",
    "        pass\n",
    "    def sort(self):\n",
    "        pass\n",
    "    "
   ]
  },
  {
   "cell_type": "markdown",
   "metadata": {},
   "source": [
    "ให้สังเกต code ในคลาส Bubble จะเห็นได้ว่าตลาส Bubble ได้ inherit คลาส Sort และใน constructor ของคลาส Bubble ก็ได้ใช้ constructor ของคลาส Sort อีกด้วย นี่เป็นอีกข้อดีหนึ่งสำหรับการทำ inheritance "
   ]
  },
  {
   "cell_type": "markdown",
   "metadata": {},
   "source": [
    "## Exercise 1:"
   ]
  },
  {
   "cell_type": "markdown",
   "metadata": {},
   "source": [
    "ให้ทำการสร้างฟังก์ชัน Sort ของคลาส Bubble ให้สมบูรณ์ โดยคลาสนี้จะมีการทำงานดังนี้\n",
    "<ul>\n",
    "<li>เมื่อเรียกใช้จะทำการ Sort LinkedList โดยเรียงลำดับจากน้อยไปมาก</li>\n",
    "<li>history จะเป็นตัวแปร List โดยจะเก็บค่าดังตัวอย่างต่อไปนี้</li></ul>\n",
    "    \n",
    "    Linkedlist มี Node คือ 2, 3, 1 และมี Method  __str__() ที่จะคืนค่าเป็นค่าของ Node ทั้งหมดโดยเรียงจาก Head ไป Tail \n",
    "        เช่น \"2, 3, 1\"\n",
    "    \n",
    "    ฟังก์ชัน sort จะต้องทำการเก็บค่า history โดยจะทำการเก็บค่า str ของ Linkedlist เอาไว้ในทุกๆขั้นตอนที่ลำดับของ Node ใน LinkedList เปลี่ยนไปเช่น\n",
    "        history.append(str(Linkedlist))  ///>>> [\"2, 3, 1\"]    \n",
    "    เมื่อทำการ print หลังจาก sort เสร็จจะได้ดังตัวอย่าง\n",
    "        [\"2, 3, 1\",\n",
    "         \"2, 1, 3\",\n",
    "         \"1, 2, 3\"]\n",
    "         \n",
    "      \n",
    "เมื่อสร้างเสร็จทำการทดสอบฟังก์ชัน"
   ]
  },
  {
   "cell_type": "code",
   "execution_count": null,
   "metadata": {},
   "outputs": [],
   "source": [
    "A = Node(2)\n",
    "B = Node(3)\n",
    "C = Node(1)\n",
    "LL = LinkedList()\n",
    "LL.insert(A,0)\n",
    "LL.insert(B,1)\n",
    "LL.insert(C,2)\n",
    "S = Bubble(LL)\n",
    "S.sort()"
   ]
  },
  {
   "cell_type": "markdown",
   "metadata": {},
   "source": [
    "จากนั้นให้ทำการเพิ่มตัวแปร reverse เป็น argument ในฟังก์ชัน sort ของคลาส Bubble โดยมีค่า Default เป็น reverse = False โดยเมื่อเรียกใช้ฟังก์ชัน Sort ถ้าค่า reverse มีค่าเป็น True จะทำการเรียงลำดับจากมากไปน้อยแทน\n",
    "    "
   ]
  },
  {
   "cell_type": "markdown",
   "metadata": {},
   "source": [
    "# Exercise 2:"
   ]
  },
  {
   "cell_type": "markdown",
   "metadata": {},
   "source": [
    "ภายใต้ไฟล์เดิม ให้ทำการสร้างคลาส Insertion ให้สมบูรณ์ โดยใช้ชื่อฟังก์ชั่นทุกอย่างเหมือนคลาส Bubble เปลี่ยนแปลงแค่รูปแบบการ Sort ในฟังก์ชั่น Sort (มี reverse เหมือนกัน)\n"
   ]
  },
  {
   "cell_type": "markdown",
   "metadata": {},
   "source": [
    "# Bonus\n",
    "\n",
    "Part นี้จะให้เป็น extra credits ลองทำ Quick Sort ดู ยากนะ"
   ]
  },
  {
   "cell_type": "markdown",
   "metadata": {},
   "source": [
    "# Tips and Tricks\n",
    "\n",
    "เวลาเราทำ inheritance เราสามารถใช้ super() ในการเรียกใช้ฟังก์ชั่นของ superclass ได้ สังเกต code ด้านล่างนี้"
   ]
  },
  {
   "cell_type": "code",
   "execution_count": null,
   "metadata": {},
   "outputs": [],
   "source": [
    "class A:\n",
    "    def __init__(self,temp):\n",
    "        self.temp = temp\n",
    "\n",
    "class B(A):\n",
    "    def __init__(self,temp):\n",
    "        print(\"Initializing object B\")\n",
    "        A.__init__(self,temp)\n",
    "\n",
    "class C(A):\n",
    "    def __init__(self,temp):\n",
    "        print(\"Initializing object C\")\n",
    "        super().__init__(temp)\n",
    "\n",
    "\n",
    "\n",
    "b = B(\"test\")\n",
    "print(b.temp)\n",
    "c = C(\"test2\")\n",
    "print(c.temp)"
   ]
  },
  {
   "cell_type": "markdown",
   "metadata": {},
   "source": [
    "class B และ C เป็น subclass ของ A และ class A ก็เป็น superclass ของ B และ C \n",
    "\n",
    "ถ้าเราอยากเรียกใช้ฟังก์ชั่น เช่น __init__() จาก superclass เราสามารถทำได้ 2 แบบ โดยการเรียกผ่านชื่อคลาส (แบบคลาส B) หรือการใช้ super() (แบบคลาส C) ก็ได้"
   ]
  },
  {
   "cell_type": "markdown",
   "metadata": {},
   "source": [
    "# Post-lab\n",
    "\n",
    "ให้ส่งไฟล์ Sort.py พร้อมทั้ง report (ไม่เกิน 1 หน้ากระดาษ) ว่า ใน Lab นี้ ได้ใช้หลักการ Polymorphism อย่างไรบ้าง และใน Exercise 2 เราได้ทดสอบความเป็น Polymorphism ของแต่ละ object อย่างไร"
   ]
  },
  {
   "cell_type": "code",
   "execution_count": null,
   "metadata": {},
   "outputs": [],
   "source": []
  }
 ],
 "metadata": {
  "kernelspec": {
   "display_name": "Python 3",
   "language": "python",
   "name": "python3"
  },
  "language_info": {
   "codemirror_mode": {
    "name": "ipython",
    "version": 3
   },
   "file_extension": ".py",
   "mimetype": "text/x-python",
   "name": "python",
   "nbconvert_exporter": "python",
   "pygments_lexer": "ipython3",
   "version": "3.7.4"
  }
 },
 "nbformat": 4,
 "nbformat_minor": 2
}
