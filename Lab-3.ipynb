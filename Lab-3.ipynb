{
 "cells": [
  {
   "cell_type": "markdown",
   "execution_count": null,
   "metadata": {},
   "outputs": [],
   "source": [
    "# Lab 3: Inheritance using Stack and Queue"
   ]
  },
  {
   "cell_type": "markdown",
   "execution_count": null,
   "metadata": {},
   "outputs": [],
   "source": [
    "# Objective"
   ]
  },
  {
   "cell_type": "markdown",
   "execution_count": null,
   "metadata": {},
   "outputs": [],
   "source": [
    "1. เรียนรู้ Inheritance\n",
    "2. สร้างคลาส Stack และ Queue\n",
    "3. เรียนรู้ Overloading Functions and Operators"
   ]
  },
  {
   "cell_type": "markdown",
   "execution_count": null,
   "metadata": {},
   "outputs": [],
   "source": [
    "# Part 1: Inheritance"
   ]
  },
  {
   "cell_type": "markdown",
   "execution_count": null,
   "metadata": {},
   "outputs": [],
   "source": [
    "ในส่วนนี้จะให้ลองทำการสร้าง Inheritance ขึ้นมา\n",
    "    \n",
    "    สร้างไฟล์ Python ชื่อว่า Person.py สำหรับสร้างคลาส Person\n",
    "    สร้าง Contructor ดังต่อไปนี้"
   ]
  },
  {
   "cell_type": "code",
   "execution_count": null,
   "metadata": {},
   "outputs": [],
   "source": [
    "class Person:\n",
    "    def __init__(self, name, height, age):\n",
    "        self.name = name\n",
    "        self.height = height\n",
    "        self.age = age\n",
    "    def changeName(self,name):\n",
    "        self.name = name"
   ]
  },
  {
   "cell_type": "markdown",
   "execution_count": null,
   "metadata": {},
   "outputs": [],
   "source": [
    "    สร้างคลาส Student ซึ่ง Inheritance มาจากคลาส Person สังเกตว่า ในการทำ Inheritance นั้น เราจะเติมชื่อคลาสที่จะ inherit ไว้ในวงเล็บหลังชื่อคลาสใหม่"
   ]
  },
  {
   "cell_type": "code",
   "execution_count": null,
   "metadata": {},
   "outputs": [],
   "source": [
    "class Student(Person):\n",
    "    def __init__(self, name, height, age, studentID):\n",
    "        Person.__init__(self, name, height, age)\n",
    "        self.Id = studentID\n",
    "        self.grade = None\n",
    "        self.score = 100\n",
    "\n",
    "    def skipClass(self):\n",
    "        self.score -= 1"
   ]
  },
  {
   "cell_type": "markdown",
   "execution_count": null,
   "metadata": {},
   "outputs": [],
   "source": [
    "ให้ลองทำการสร้าง Object Person และ Student ขึ้น"
   ]
  },
  {
   "cell_type": "code",
   "execution_count": null,
   "metadata": {},
   "outputs": [],
   "source": [
    "a = Person(\"eiei\",123,20)\n",
    "b = Student(\"ytt\",555,16,62340500099)"
   ]
  },
  {
   "cell_type": "markdown",
   "execution_count": null,
   "metadata": {},
   "outputs": [],
   "source": [
    "ลองใช้ฟังก์ชันจาก object ทั้งสองตัวนี้ โดยให้เริ่มจาก b ก่อน สังเกตว่าผลคืออะไร"
   ]
  },
  {
   "cell_type": "code",
   "execution_count": null,
   "metadata": {},
   "outputs": [],
   "source": [
    "b.changeName(\"ppp\")\n",
    "b.skipClass()\n",
    "print(b.name, b.age, b.score)"
   ]
  },
  {
   "cell_type": "markdown",
   "execution_count": null,
   "metadata": {},
   "outputs": [],
   "source": [
    "ทีนี้ ลองกับ object a ดูบ้าง"
   ]
  },
  {
   "cell_type": "code",
   "execution_count": null,
   "metadata": {},
   "outputs": [],
   "source": [
    "a.changeName(\"ppp\")\n",
    "a.skipClass()"
   ]
  },
  {
   "cell_type": "code",
   "execution_count": null,
   "metadata": {},
   "outputs": [],
   "source": [
    "print (a.name)\n",
    "print (a.age)\n",
    "print (a.score)"
   ]
  },
  {
   "cell_type": "markdown",
   "execution_count": null,
   "metadata": {},
   "outputs": [],
   "source": [
    "# Exercise 0:"
   ]
  },
  {
   "cell_type": "markdown",
   "execution_count": null,
   "metadata": {},
   "outputs": [],
   "source": [
    "สังเกตุและทำความเข้าใจสิ่งที่เกิดขึ้นพร้อมทั้งอธิบายให้เข้าใจได้\n"
   ]
  },
  {
   "cell_type": "markdown",
   "execution_count": null,
   "metadata": {},
   "outputs": [],
   "source": [
    "# Exercise 1:"
   ]
  },
  {
   "cell_type": "markdown",
   "execution_count": null,
   "metadata": {},
   "outputs": [],
   "source": [
    "ให้ทำการสร้างคลาส Teacher ซึ่ง Inheritance มาจากคลาส Person โดยมีคุณสมบัติดังต่อไปนี้\n",
    "\n",
    "    มีตัวแปรชื่อ fav_gift ที่มี default = \"scarf\" \n",
    "    มีฟังก์ชันชื่อ set_grade ที่จะรับ object เข้ามาผ่าน argument ของฟังก์ชั่น และสามารถเปลี่ยนค่าตัวแปร grade ของ object นั้นได้\n",
    "\n",
    "จากนั้นให้ลองทำการทดสอบเปลี่ยน grade ของ Object Student โดยการสร้าง Student ขึ้นมา 1 คนและใช้ object teacher เปลี่ยนเกรด"
   ]
  },
  {
   "cell_type": "markdown",
   "execution_count": null,
   "metadata": {},
   "outputs": [],
   "source": [
    "# Part 2: Stack and Queue"
   ]
  },
  {
   "cell_type": "markdown",
   "execution_count": null,
   "metadata": {},
   "outputs": [],
   "source": [
    "Stack และ Queue เป็น Data Structure รูปแบบหนึ่ง ซึ่งทำงานคล้ายๆ Linked List แต่จะมีความแตกต่างในด้านการนำข้อมูลเข้าและออก สามารถศึกษาพฤติกรรมของ Stack และ Queue ได้จาก visualgo.net เช่นเดิม ทำความเข้าใจเพื่อจะเอามาใช้ใน Lab นี้"
   ]
  },
  {
   "cell_type": "markdown",
   "execution_count": null,
   "metadata": {},
   "outputs": [],
   "source": [
    "ในส่วนนี้จะให้ทำการสร้างคลาส Stack และ Queue ขึ้นโดยใช้คลาสจาก Lab 2 (LinkedList และ Node) โดยทั้งสองคลาสนี้จะ Inheritance มาจาก LinkedList"
   ]
  },
  {
   "cell_type": "markdown",
   "execution_count": null,
   "metadata": {},
   "outputs": [],
   "source": [
    "    สร้างไฟล์ Python ชื่อว่า Stack.py สำหรับสร้างคลาส Stack\n",
    "    สร้าง Contructor และฟังก์ชันดังต่อไปนี้"
   ]
  },
  {
   "cell_type": "code",
   "execution_count": null,
   "metadata": {},
   "outputs": [],
   "source": [
    "class Stack(LinkedList):\n",
    "    def __init__(self):\n",
    "        pass\n",
    "    def push(self,item):\n",
    "        pass\n",
    "    def pop(self):\n",
    "        pass"
   ]
  },
  {
   "cell_type": "markdown",
   "execution_count": null,
   "metadata": {},
   "outputs": [],
   "source": [
    "    สร้างไฟล์ Python ชื่อว่า Queue.py สำหรับสร้างคลาส Queue\n",
    "    สร้าง Contructor ดังต่อไปนี้"
   ]
  },
  {
   "cell_type": "code",
   "execution_count": null,
   "metadata": {},
   "outputs": [],
   "source": [
    "class Queue(LinkedList):\n",
    "    def __init__(self):\n",
    "        pass\n",
    "    def enqueue(self,item):\n",
    "        pass\n",
    "    def dequeue(self):\n",
    "        pass"
   ]
  },
  {
   "cell_type": "markdown",
   "execution_count": null,
   "metadata": {},
   "outputs": [],
   "source": [
    "# Exercise 2:"
   ]
  },
  {
   "cell_type": "markdown",
   "execution_count": null,
   "metadata": {},
   "outputs": [],
   "source": [
    "ให้ทำฟังก์ชันในคลาส Stack และ Queue ให้สมบูรณ์ โดยแต่ละฟังก์ชันสามารถทำงานได้ดังต่อไปนี้\n",
    "    \n",
    "    push()\n",
    "        เพิ่ม Node ที่รับเข้ามา เข้าไปในตำแหน่งสุดท้ายของ Stack\n",
    "        \n",
    "    pop()\n",
    "        ลบและคืนค่า Node ตัวสุดท้ายของ LinkedList\n",
    "        \n",
    "    enqueue()\n",
    "        เพิ่ม Node ที่รับเข้ามา เข้าไปในตำแหน่งสุดท้ายของ Queue\n",
    "        \n",
    "    dequeue()\n",
    "        ลบและคืนค่า Node ตัวแรกของ LinkedList\n",
    "        "
   ]
  },
  {
   "cell_type": "markdown",
   "execution_count": null,
   "metadata": {},
   "outputs": [],
   "source": [
    "# Part 3: Overloading Functions and Operators"
   ]
  },
  {
   "cell_type": "markdown",
   "execution_count": null,
   "metadata": {},
   "outputs": [],
   "source": [
    "ในส่วนนี้จะให้ทำการศึกษาเกี่ยวกับการทำ Overloading Functions and Operators โดยจะใช้ตัวอย่างเป็น Vector 3 มิติ และฟังก์ชัน len()"
   ]
  },
  {
   "cell_type": "markdown",
   "execution_count": null,
   "metadata": {},
   "outputs": [],
   "source": [
    "**Overloading Functions**"
   ]
  },
  {
   "cell_type": "markdown",
   "execution_count": null,
   "metadata": {},
   "outputs": [],
   "source": [
    "    สร้างไฟล์ Python ชื่อว่า Vector สำหรับสร้างคลาส Vector\n",
    "    สร้าง Constructor ดังต่อไปนี้"
   ]
  },
  {
   "cell_type": "code",
   "execution_count": null,
   "metadata": {},
   "outputs": [],
   "source": [
    "class Vector:\n",
    "    def __init__(self,x=0,y=0,z=0):\n",
    "        self.x = x\n",
    "        self.y = y\n",
    "        self.z = z\n",
    "    def add(self,x,y,z):\n",
    "        self.x += x\n",
    "        self.y += y\n",
    "        self.z += z"
   ]
  },
  {
   "cell_type": "markdown",
   "execution_count": null,
   "metadata": {},
   "outputs": [],
   "source": [
    "จากนั้นให้ลองสร้าง Object ขึ้นและทำการใช้ฟังก์ชัน len() กับ Object นั้น"
   ]
  },
  {
   "cell_type": "code",
   "execution_count": null,
   "metadata": {},
   "outputs": [],
   "source": [
    "v1 = Vector(3,4,5)\n",
    "v1.add(\"5\",\"4\",\"3\")"
   ]
  },
  {
   "cell_type": "markdown",
   "execution_count": null,
   "metadata": {},
   "outputs": [],
   "source": [
    "ซึ่งจะทำให้เกิด TypeError ขึ้น เพราะว่าฟังก์ชัน add ของคลาส Vector เก็บค่าตัวแปร x,y,z เป็นตัวแปร Integer \n",
    "\n",
    "แต่ว่าในคำสั่ง v1.add(\"5\",\"4\",\"3\") ได้ทำการใส่ String เข้าไปทำให้ไม่สามารถทำการบวกกันได้เพราะ Type ไม่ตรงกัน\n",
    "\n",
    "แต่หากเราเปลี่ยนคลาส Vector เป็นดังนี้"
   ]
  },
  {
   "cell_type": "code",
   "execution_count": null,
   "metadata": {},
   "outputs": [],
   "source": [
    "class Vector:\n",
    "    def __init__(self,x=0,y=0,z=0):\n",
    "        self.x = x\n",
    "        self.y = y\n",
    "        self.z = z\n",
    "    def add(self,x,y,z):\n",
    "        self.x += int(x)\n",
    "        self.y += int(y)\n",
    "        self.z += int(z)"
   ]
  },
  {
   "cell_type": "markdown",
   "execution_count": null,
   "metadata": {},
   "outputs": [],
   "source": [
    "และใช้คำสั่งเดิม จะทำให้เราสามารถใช้ฟังก์ชัน add ที่สามารถใส่ทั้ง String และ Int (หรืออื่นๆอีกเช่น Float) เข้าไปได้"
   ]
  },
  {
   "cell_type": "markdown",
   "execution_count": null,
   "metadata": {},
   "outputs": [],
   "source": [
    "**Operators**"
   ]
  },
  {
   "cell_type": "markdown",
   "execution_count": null,
   "metadata": {},
   "outputs": [],
   "source": [
    "    ในส่วนนี้เราจะทำการใช้ฟังก์ชัน add ของคลาส Vector โดยใช้เครื่องหมาย + เช่น v3 = v1 + v2\n",
    "    โดยเพิ่มฟังก์ชัน __add__() เข้าไปในคลาสของ Vector ดังนี้"
   ]
  },
  {
   "cell_type": "code",
   "execution_count": null,
   "metadata": {},
   "outputs": [],
   "source": [
    "class Vector:\n",
    "    def __init__(self,x=0,y=0,z=0):\n",
    "        self.x = x\n",
    "        self.y = y\n",
    "        self.z = z\n",
    "    def add(self,x,y,z):\n",
    "        self.x += int(x)\n",
    "        self.y += int(y)\n",
    "        self.z += int(z)\n",
    "    def __add__(self,v):\n",
    "        plusx = self.x + v.x\n",
    "        plusy = self.y + v.y\n",
    "        plusz = self.z + v.z\n",
    "        return Vector(plusx,plusy,plusz)"
   ]
  },
  {
   "cell_type": "markdown",
   "execution_count": null,
   "metadata": {},
   "outputs": [],
   "source": [
    "    จากนั้นให้สร้าง Object v1,v2 ขึ้นมาและลองใช้คำสั่ง"
   ]
  },
  {
   "cell_type": "code",
   "execution_count": null,
   "metadata": {},
   "outputs": [],
   "source": [
    "v3 = v1 + v2"
   ]
  },
  {
   "cell_type": "markdown",
   "execution_count": null,
   "metadata": {},
   "outputs": [],
   "source": [
    "# Exercise 3:\n",
    "\n",
    "ให้ทำการเพิ่มฟังก์ชัน __len__() ในคลาส Vector ให้สามารถแสดงค่าผลรวมของ x,y,z และฟังก์ชันอื่นๆให้สามารถใช้เครื่องหมาย >=,<= และ == ได้ สามารถดูชื่อฟังก์ชันอื่นๆ ได้ที่ลิงค์ต่อไปนี้\n",
    "https://stackabuse.com/overloading-functions-and-operators-in-python/"
   ]
  }
 ],
 "metadata": {
  "kernelspec": {
   "display_name": "Python 3.7.3 64-bit",
   "language": "python",
   "name": "python37364bit9bcfc2ab371c432a8bde101637292a40"
  },
  "language_info": {
   "codemirror_mode": {
    "name": "ipython",
    "version": 3
   },
   "file_extension": ".py",
   "mimetype": "text/x-python",
   "name": "python",
   "nbconvert_exporter": "python",
   "pygments_lexer": "ipython3",
   "version": "3.7.3-final"
  }
 },
 "nbformat": 4,
 "nbformat_minor": 2
}