{
 "cells": [
  {
   "cell_type": "markdown",
   "metadata": {},
   "source": [
    "# Introduction to pyGame\n"
   ]
  },
  {
   "cell_type": "markdown",
   "metadata": {},
   "source": [
    "pyGame เป็น Library ของ Python ที่รวบรวม Module ต่างๆ ซึ่งดีไซน์สำหรับสร้าง Video Games โดยมี Module สำเร็จเช่น เสียงเเละกราฟฟิค ต่างๆ"
   ]
  },
  {
   "cell_type": "markdown",
   "metadata": {},
   "source": [
    "## Install\n",
    "1. สร้างไฟล์ Python ชื่อว่า Pygame.py สำหรับสร้าง pyGame\n",
    "1. ทำการ Install pygame โดยมีตัวอย่างวิธีการลงจาก Link ต่อไปนี้\n",
    "    https://www.pygame.org/wiki/GettingStarted\n",
    "2. import libary และ initial pyGame โดยใช้คำสั่ง"
   ]
  },
  {
   "cell_type": "code",
   "execution_count": null,
   "metadata": {},
   "outputs": [],
   "source": [
    "import pygame as pg\n",
    "pg.init()"
   ]
  },
  {
   "cell_type": "markdown",
   "metadata": {},
   "source": [
    "## Configure"
   ]
  },
  {
   "cell_type": "markdown",
   "metadata": {},
   "source": [
    "หลังจากที่ได้ทำการ Initial pyGame แล้ว ต่อไปเราจะทำการสร้างหน้าต่างใหม่ขึ้นมาโดยมีขั้นตอนดังนี้\n",
    "1. กำหนดขนาดหน้าต่างเกมและสร้างหน้าต่างเกม\n",
    "2. สร้าง loop เพื่อให้หน้าต่างเกมทำงานเรื่อยๆ\n",
    "3. ตั้งสีพื้นหลังหน้าต่างเกมด้วยสีขาว (255, 255, 255) \n",
    "4. อัพเดตหน้าจอให้แสดงผลล่าสุดที่ทำ\n",
    "5. ทำการ Check event สำหรับการกดออกจากหน้าต่างเกม\n",
    "\n",
    "ตัวอย่างของคำสั่งโดยเขียนคำสั่งดังต่อไปนี้"
   ]
  },
  {
   "cell_type": "code",
   "execution_count": null,
   "metadata": {},
   "outputs": [],
   "source": [
    "win_x, win_y = 800, 480 #1 ขนาดหน้าจอ\n",
    "\n",
    "Screen = pg.display.set_mode((win_x, win_y)) #1 สร้างหน้าต่างเกม\n",
    "\n",
    "while(1): #2 ทำการสร้าง loop\n",
    "    \n",
    "    Screen.fill((255, 255, 255)) #3ตั้งสีพื้นหลัง\n",
    "    \n",
    "    pg.display.update() #4 ทำการอัพเดท\n",
    "    \n",
    "    for event in pg.event.get(): # ทำการ Check event ต่างๆที่เกิดขึ้น\n",
    "        if event.type == pg.QUIT: \n",
    "            pg.quit()\n",
    "            exit()"
   ]
  },
  {
   "cell_type": "markdown",
   "metadata": {},
   "source": [
    "## Draw Circle\n",
    "ในส่วนนี้จะให้ทำการสร้างรูปวงกลมขึ้นมาในหน้าต่างเกม โดยใช้คำสั่ง pg.draw.circle(surface, color, center, radius) เพื่อวาดวงกลมลงบนหน้าจอ โดย\n",
    "\n",
    "- surface คือ หน้าต่างที่เราสร้างขึ้น (หรือคือเจ้าตัวแปร Screen นั่นแหละ)\n",
    "- color เป็นสีของวงกลม (r,g,b)\n",
    "- center เป็นตำแห่งจุด ศูนย์กลางของวงกลม ระบุเป็น (x,y)\n",
    "- radius เป็นค่ารัศมีของรูปวงกลม\n",
    "\n",
    "***แทรกคำสั่งนี้ลงไปก่อนคำสั่ง pg.display.update() นะ ***"
   ]
  },
  {
   "cell_type": "code",
   "execution_count": null,
   "metadata": {},
   "outputs": [],
   "source": [
    "win_x, win_y = 800, 480\n",
    "Screen = pg.display.set_mode((win_x, win_y))\n",
    "while(1):\n",
    "    Screen.fill((255, 255, 255))\n",
    "    pg.draw.circle(Screen,(100,100,100),(100,100),20)  # ใส่คำสั่งก่อนการอัพเดทหน้าจอ\n",
    "    pg.display.update()\n",
    "    for event in pg.event.get():\n",
    "        if event.type == pg.QUIT:\n",
    "            pg.quit()\n",
    "            exit()"
   ]
  },
  {
   "cell_type": "markdown",
   "metadata": {},
   "source": [
    "### Move Circle\n",
    "หากต้องการให้รูปวงกลมเคลื่อนที่ ให้ทำการเปลี่ยนตำแหน่งของวัตถุในภาพไปเรื่อยๆ \n",
    "\n",
    "โดยจะสร้างตัวแปร posiX และ posiY ขึ้นแทนตำแหน่งของรูปวงกลม จากนั้นจะทำการเปลี่ยนค่าให้เพิ่มขึ้นเรื่อยๆ และเมื่อค่าตำแหน่งของรูปวงกลมเกินขนาดของหน้าต่างเกมจะให้ทำการ reset ค่า ตำแหน่งใหม่เป็น 0 เช่น\n",
    "\n",
    "*** ให้แทรกคำสั่ง pg.time.delay(1) เข้าไปด้วยเพื่อทำการหน่วงเวลา 1 ms ไม่ให้วัตถุเคลื่อนที่เร็วเกินไป***"
   ]
  },
  {
   "cell_type": "code",
   "execution_count": null,
   "metadata": {},
   "outputs": [],
   "source": [
    "win_x, win_y = 800, 480\n",
    "Screen = pg.display.set_mode((win_x, win_y))\n",
    "posiX, posiY = 20, 20\n",
    "\n",
    "\n",
    "while(1):\n",
    "    Screen.fill((255, 255, 255))\n",
    "    pg.draw.circle(Screen,(100,100,100),(posiX,posiY),20)\n",
    "    \n",
    "    posiX += 1 # เพิ่มค่าตำแหน่ง X\n",
    "    posiY += 1 # เพิ่มค่าตำแหน่ง Y\n",
    "    \n",
    "    if(posiX>win_x): # เมื่อค่าตำแหน่ง X เกินขนาดของหน้าจอ\n",
    "        posiX = 0\n",
    "    if(posiY>win_y): # เมื่อค่าตำแหน่ง Y เกินขนาดของหน้าจอ\n",
    "        posiY = 0\n",
    "        \n",
    "    pg.time.delay(1) #หน่วงเวลา\n",
    "    \n",
    "    pg.display.update()\n",
    "    for event in pg.event.get():\n",
    "        if event.type == pg.QUIT:\n",
    "            pg.quit()\n",
    "            exit()"
   ]
  },
  {
   "cell_type": "markdown",
   "metadata": {},
   "source": [
    "# Exercise 0\n",
    "ลองเอา Screen.fill((255, 255, 255)) ไว้นอก while สังเกตุและอธิบายผลที่เกิดขึ้น\n",
    "\n",
    "# Exercise 1\n",
    "ให้สร้างวงกลมไว้กลางหน้าต่าง ขยายขนาดขึ้นจนเต็มหน้าจอ จากนั้นหดลงเรื่อยๆจนหายไป ทำซ้ำแบบนี้วนไปเรื่อยๆ \n",
    "\n",
    "ปล.เปลี่ยนสีลูกบอลด้วย เป็นสีที่ชอบเลย\n",
    "\n",
    "-----"
   ]
  },
  {
   "cell_type": "markdown",
   "metadata": {},
   "source": [
    "## Mouse\n",
    "pygame มีคำสั่งสำหรับตรวจสอบสถานะของเมาส์ให้ ว่าตอนนี้กำลังกดอยู่หรือไม่ รวมไปถึงตรวจสอบตำแหน่งของเมาส์ว่าอยู่ตรงไหนอีกด้วย\n",
    "\n",
    "\n",
    "-----\n",
    "คำสั่งสำหรับการเช็คการกดคลิกส์เมาส์(ปุ่มซ้าย)\n",
    "\n",
    "pg.mouse.get_pressed()[0]\n",
    "\n",
    "จะคืนค่าเป็น 0 หากไม่ถูกกด และคืนค่าเป็น 1 หากเมาส์ถูกกดอยู่\n",
    "\n",
    "------\n",
    "ส่วนคำสั่ง pg.mouse.get_pos() จะคืนค่าเป็นตำแหน่งของเมาส์ ณ เวลานั้นๆ\n",
    "\n",
    "#### ตัวอย่างการใช้\n",
    "สร้างวงกลมตำแหน่งที่เมาส์คลิกส์"
   ]
  },
  {
   "cell_type": "code",
   "execution_count": null,
   "metadata": {},
   "outputs": [],
   "source": [
    "import pygame as pg\n",
    "win_x = 800\n",
    "win_y = 480\n",
    "Screen = pg.display.set_mode((win_x, win_y))\n",
    "\n",
    "while(1):\n",
    "    Screen.fill((255, 255, 255))\n",
    "    \n",
    "    if pg.mouse.get_pressed()[0] == 1: # Check mouse pressed\n",
    "        (posiX, posiY) = pg.mouse.get_pos()\n",
    "        \n",
    "    pg.draw.circle(Screen,(100,100,100),(posiX,posiY),20)\n",
    "    pg.display.update()\n",
    "    \n",
    "    for event in pg.event.get():\n",
    "        if event.type == pg.QUIT:\n",
    "            pg.quit()\n",
    "            exit()"
   ]
  },
  {
   "cell_type": "markdown",
   "metadata": {},
   "source": [
    "# Exercise 2: Free Fall\n",
    "สร้างวงกลมที่ตำแหน่ง (200, 30) จากนั้นให้ตกสู่พื้นแบบ free fall โดยมีความเร่ง 1 pixel/s^2 มื่อลูกบอลตกถึงพื้นให้ปิดหน้าต่างลง\n",
    "\n",
    "# Exercise 3: Projectile\n",
    "ให้สร้างตัวแปรสำหรับกำหนด ตำแหน่ง ความเร็วต้น และมุมสำหรับยิงลูกบอล ให้แสดงการเคลื่อนที่แบบ projectile (ใช้ความเร่งเดียวกับข้างบน)"
   ]
  },
  {
   "cell_type": "code",
   "execution_count": null,
   "metadata": {},
   "outputs": [],
   "source": []
  }
 ],
 "metadata": {
  "kernelspec": {
   "display_name": "Python 3",
   "language": "python",
   "name": "python3"
  },
  "language_info": {
   "codemirror_mode": {
    "name": "ipython",
    "version": 3
   },
   "file_extension": ".py",
   "mimetype": "text/x-python",
   "name": "python",
   "nbconvert_exporter": "python",
   "pygments_lexer": "ipython3",
   "version": "3.7.4"
  }
 },
 "nbformat": 4,
 "nbformat_minor": 2
}
