{
 "cells": [
  {
   "cell_type": "markdown",
   "metadata": {},
   "source": [
    "# Lab 2: Array and Linked List"
   ]
  },
  {
   "cell_type": "markdown",
   "metadata": {},
   "source": [
    "# Objective\n",
    "\n",
    "ในแลปนี้จะให้ลองสร้าง Data Structure เบื้องต้น นั่นคือ Linked List โดยสิ่งที่จะต้องทำให้ได้คือ\n",
    "1. สร้าง Node class ที่จะแสดงถึง item ชิ้นหนึ่งภายในลิสต์\n",
    "2. สร้าง Linked List class\n",
    "3. สร้าง Linked List function เช่น insert และ delete\n",
    "4. ทดสอบและประยุกต์ใช้งาน linked list\n"
   ]
  },
  {
   "cell_type": "markdown",
   "metadata": {},
   "source": [
    "# Lab Instruction\n",
    "\n",
    "# Part 1: Node Class\n",
    "\n",
    "ในส่วนนี้ จะให้สร้าง Node Class โดย Node เป็น Object ที่ถูกใช้งานใน Linked List\n",
    "1. สร้างไฟล์ Python สำหรับสร้าง Node Class\n",
    "2. สร้าง Contructor\n"
   ]
  },
  {
   "cell_type": "code",
   "execution_count": 4,
   "metadata": {},
   "outputs": [],
   "source": [
    "class Node:\n",
    "    def __init__(self,value=None, next=None):\n",
    "        self.value = value\n",
    "        self.next = next"
   ]
  },
  {
   "cell_type": "markdown",
   "metadata": {},
   "source": [
    "    ฟังก์ชันนี้รับค่าตัวแปร 3 ตัว คือ\n",
    "        - value เป็นค่าของ Node นี้ที่ต้องการนำไปใช้\n",
    "        - next เป็น Node ตัวถัดไป\n",
    "        - previous เป็น Node ตัวก่อนหน้า"
   ]
  },
  {
   "cell_type": "markdown",
   "metadata": {},
   "source": [
    "3. สร้าง print ฟังก์ชัน"
   ]
  },
  {
   "cell_type": "code",
   "execution_count": 5,
   "metadata": {},
   "outputs": [],
   "source": [
    "def __str__(self):\n",
    "    return str(self.value)"
   ]
  },
  {
   "cell_type": "markdown",
   "metadata": {},
   "source": [
    "ในแลปคราวที่แล้ว เราทำการเรียกใช้และแก้ไขค่าตัวแปรต่างๆโดยตรง ซึ่งในมาตรฐานสากลแล้ว จะทำการเรียกดูแล้วแก้ไขค่าผ่านฟังก์ชัน getter และ setter เช่นตัวอย่างดังต่อไปนี้"
   ]
  },
  {
   "cell_type": "code",
   "execution_count": 11,
   "metadata": {},
   "outputs": [],
   "source": [
    "def getValue(self):\n",
    "    return self.value\n",
    "\n",
    "def setValue(self,newValue):\n",
    "    self.value = newValue"
   ]
  },
  {
   "cell_type": "markdown",
   "metadata": {},
   "source": [
    "# Exercise 1:\n",
    "สร้างฟังชัน getter และ setter สำหรับตัวแปร next "
   ]
  },
  {
   "cell_type": "markdown",
   "metadata": {},
   "source": [
    "# Part 2: Linked List Class\n",
    "\n",
    "ในส่วนนี้จะต้องสร้าง Linked List class และฟังก์ชันที่เกี่ยวข้องทั้งหมด\n",
    "1. สร้างไฟล์ Python สำหรับสร้าง Linked List Class\n",
    "2. สร้าง Contructor"
   ]
  },
  {
   "cell_type": "code",
   "execution_count": 6,
   "metadata": {},
   "outputs": [],
   "source": [
    "class Linked_List:\n",
    "    def __init__(self):\n",
    "        self.head = None\n",
    "        self.tail = None\n",
    "        self.size = 0"
   ]
  },
  {
   "cell_type": "markdown",
   "metadata": {},
   "source": [
    "3. สร้างฟังก์ชัน add"
   ]
  },
  {
   "cell_type": "code",
   "execution_count": null,
   "metadata": {},
   "outputs": [],
   "source": [
    "def add(self, node, pos):"
   ]
  },
  {
   "cell_type": "markdown",
   "metadata": {},
   "source": [
    "    ฟังก์ชันนี้รับค่าตัวแปร 2 ตัว คือ\n",
    "        - node เป็นค่าของ node ที่ต้องการเพิ่มเข้าใน List\n",
    "        - pos เป็นตำแหน่งที่ต้องการจะเพิ่มเข้าไปใน List\n",
    "    ฟังก์ชันนี้จะไม่คืนค่าใดๆ"
   ]
  },
  {
   "cell_type": "markdown",
   "metadata": {},
   "source": [
    "4. สร้างฟังก์ชัน delete"
   ]
  },
  {
   "cell_type": "code",
   "execution_count": null,
   "metadata": {},
   "outputs": [],
   "source": [
    "def delete(self, pos):"
   ]
  },
  {
   "cell_type": "markdown",
   "metadata": {},
   "source": [
    "    ฟังก์ชันนี้รับค่าตัวแปร 1 ตัว คือ\n",
    "        - pos เป็นตำแหน่งที่ต้องการลบค่าใน List ออก\n",
    "    ฟังก์ชันนี้จะคืนค่า node ที่ถูกลบออก"
   ]
  },
  {
   "cell_type": "markdown",
   "metadata": {},
   "source": [
    "# Part 3\n",
    "\n",
    "ให้สร้าง List ขึ้นมาแล้วลองทดสอบโดยการเพิ่ม Node และลองใช้ฟังก์ชันทั้งหมด\n",
    "\n",
    "**ในฟังก์ชันที่สร้างจะไม่เกิด Error ขึ้นเมื่อผู้ใช้ใช้งานผิดพลาด เช่น ลบ Node ที่ไม่มีอยู่ใน Linked List, และเมื่อมีการเพิ่ม Node เข้าไปในตำแหน่งแรกสุดหรือท้ายสุด**"
   ]
  },
  {
   "cell_type": "markdown",
   "metadata": {},
   "source": [
    "# Exercise 2\n",
    "ทำฟังก์ชั่น linked list ให้สามารถใช้งานได้ถูกต้องครบถ้วน โดยพี่ๆจะเข้าไปตรวจการทำงานแต่ละฟังก์ชั่น"
   ]
  }
 ],
 "metadata": {
  "kernelspec": {
   "display_name": "Python 3",
   "language": "python",
   "name": "python3"
  },
  "language_info": {
   "codemirror_mode": {
    "name": "ipython",
    "version": 3
   },
   "file_extension": ".py",
   "mimetype": "text/x-python",
   "name": "python",
   "nbconvert_exporter": "python",
   "pygments_lexer": "ipython3",
   "version": "3.7.3"
  }
 },
 "nbformat": 4,
 "nbformat_minor": 2
}
