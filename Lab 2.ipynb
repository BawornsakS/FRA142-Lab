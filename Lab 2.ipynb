{
 "cells": [
  {
   "cell_type": "markdown",
   "metadata": {},
   "source": [
    "# Lab 2: Array and Linked List"
   ]
  },
  {
   "cell_type": "markdown",
   "metadata": {},
   "source": [
    "## Objective\n",
    "\n",
    "ในแลปนี้จะให้ลองสร้าง Data Structure เบื้องต้น นั่นคือ Linked List โดยสิ่งที่จะต้องทำให้ได้คือ \n",
    "\n",
    "1. สร้าง Node class ที่จะแสดงถึง item ชิ้นหนึ่งภายในลิสต์\n",
    "\n",
    "2. สร้าง Linked List class\n",
    "\n",
    "3. สร้าง Linked List function เช่น insert และ delete\n",
    "\n",
    "4. ทดสอบและประยุกต์ใช้งาน linked list\n"
   ]
  },
  {
   "cell_type": "markdown",
   "execution_count": 3,
   "metadata": {},
   "outputs": [],
   "source": [
    "## Prelab: Data Structure\n",
    "\n",
    "ใน Lab นี้ เราจะเรียนรู้ concept ของ encapsulation ใน OOP ผ่านหัวข้อที่เรียกว่า Data Structure \n",
    "\n",
    "*** ให้ทบทวนเนื้อหาที่อ.โซ่สอนก่อนเข้าคลาสด้วย พร้อมทำความเข้าใจเนื้อหาต่อไปนี้ ***\n",
    "\n",
    "Data Structure คือโครงสร้างของข้อมูลในรูปแบบต่างๆที่เราสามารถใช้ เพื่อจัดเก็บ จัดระเบียบ และเรียกใช้งานข้อมูลได้อย่างมีประสิทธิภาพ\n",
    "\n",
    "ใน Lab นี้ เราจะสร้าง Data Structure พื้นฐานที่ชื่อว่า Linked List โดยก่อนที่เราจะไปสร้าง Linked List เราจะต้องรู้จัก Node ก่อน"
   ]
  },
  {
   "cell_type": "markdown",
   "execution_count": null,
   "metadata": {},
   "outputs": [],
   "source": [
    "### Node\n",
    "\n",
    "Node เป็นหน่วยย่อยที่สุดของ Data Structure เป็นที่ ๆ ใช้เก็บข้อมูลต่าง ๆ เอาไว้ Node จะมี data อยู่ 2 ส่วนหลักๆคือ ส่วนของ value ไว้เก็บค่าต่าง ๆ และส่วนของ next ซึ่งจะบอกว่า Node ต่อจากนี้คือ Node อะไร"
   ]
  },
  {
   "cell_type": "markdown",
   "execution_count": null,
   "metadata": {},
   "outputs": [],
   "source": [
    "### Linked List\n",
    "\n",
    "Linked List คือการนำ Node มาต่อ ๆ กันเป็นสาย เพื่อสร้างความสัมพันธ์และลำดับขั้นของข้อมูล \n",
    "\n",
    "<img src=\"images/lab2_01.png\">\n",
    "\n",
    "โดย Linked List จะมี function สำคัญเช่น insert, remove ในการใส่ Node เข้ามา และลบ Node ออกไป สามารถลองเล่นและทำความเข้าใจ function ต่างๆได้ที่ https://visualgo.net/en/list\n",
    "\n",
    "### Resource ให้อ่านเพิ่มเติม ถ้าอยากเข้าใจเพิ่มขึ้น \n",
    "1. http://www.elfhs.ssru.ac.th/wipada_ch/pluginfile.php/893/course/summary/Chapter%204-LinkedList.pdf\n",
    "\n",
    "2. https://medium.com/@topspinppy/data-structure-%E0%B8%84%E0%B8%B2%E0%B8%9A%E0%B8%97%E0%B8%B5%E0%B9%88-1-linked-list-episode1-a29af02ebc3c\n",
    "\n",
    "3. ลอง search คำว่า linked list, insertion, deletion แล้วทำความเข้าใจดูครับ"
   ]
  },
  {
   "cell_type": "markdown",
   "metadata": {},
   "source": [
    "## Inlab\n",
    "\n",
    "## Part 1: Node Class\n",
    "\n",
    "ในส่วนนี้ จะให้สร้าง Node Class โดย Node เป็น Object ที่ถูกใช้งานใน Linked List\n",
    "\n",
    "- สร้างไฟล์ Python ชื่อว่า Node.py สำหรับสร้าง Node Class\n",
    "\n",
    "- สร้าง Contructor\n"
   ]
  },
  {
   "cell_type": "code",
   "execution_count": 4,
   "metadata": {},
   "outputs": [],
   "source": [
    "class Node:\n",
    "    def __init__(self,value=None, next=None):\n",
    "        self.value = value\n",
    "        self.next = next"
   ]
  },
  {
   "cell_type": "markdown",
   "metadata": {},
   "source": [
    "    ฟังก์ชันนี้รับค่าตัวแปร 3 ตัว คือ\n",
    "        - value เป็นค่าของ Node นี้ที่ต้องการนำไปใช้\n",
    "        - next เป็น Node ตัวถัดไป"
   ]
  },
  {
   "cell_type": "markdown",
   "metadata": {},
   "source": [
    "- สร้างฟังก์ชัน print"
   ]
  },
  {
   "cell_type": "code",
   "execution_count": 5,
   "metadata": {},
   "outputs": [],
   "source": [
    "def __str__(self):\n",
    "    return str(self.value)"
   ]
  },
  {
   "cell_type": "markdown",
   "metadata": {},
   "source": [
    "ในแลปคราวที่แล้ว เราทำการเรียกใช้และแก้ไขค่าตัวแปรต่างๆโดยตรง ซึ่งในมาตรฐานสากลแล้ว จะทำการเรียกดูแล้วแก้ไขค่าผ่านฟังก์ชัน getter และ setter เช่นตัวอย่างดังต่อไปนี้"
   ]
  },
  {
   "cell_type": "code",
   "execution_count": 11,
   "metadata": {},
   "outputs": [],
   "source": [
    "def getValue(self):\n",
    "    return self.value\n",
    "\n",
    "def setValue(self,newValue):\n",
    "    self.value = newValue"
   ]
  },
  {
   "cell_type": "markdown",
   "metadata": {},
   "source": [
    "## Exercise 1:\n",
    "สร้างฟังชัน getter และ setter สำหรับตัวแปร next "
   ]
  },
  {
   "cell_type": "markdown",
   "metadata": {},
   "source": [
    "## Part 2: Linked List Class\n",
    "\n",
    "ในส่วนนี้จะต้องสร้าง Linked List class และฟังก์ชันที่เกี่ยวข้องทั้งหมด\n",
    "\n",
    "- สร้างไฟล์ Python ชื่อ LinkedList.py สำหรับสร้าง Linked List Class\n",
    "\n",
    "- สร้าง Contructor"
   ]
  },
  {
   "cell_type": "code",
   "execution_count": 6,
   "metadata": {},
   "outputs": [],
   "source": [
    "class LinkedList:\n",
    "    def __init__(self):\n",
    "        self.head = None\n",
    "        self.tail = None\n",
    "        self.size = 0"
   ]
  },
  {
   "cell_type": "markdown",
   "metadata": {},
   "source": [
    "- สร้างฟังก์ชัน insert"
   ]
  },
  {
   "cell_type": "code",
   "execution_count": null,
   "metadata": {},
   "outputs": [],
   "source": [
    "def insert(self, node, pos):"
   ]
  },
  {
   "cell_type": "markdown",
   "metadata": {},
   "source": [
    "    ฟังก์ชันนี้รับค่าตัวแปร 2 ตัว คือ\n",
    "        - node เป็นค่าของ node ที่ต้องการเพิ่มเข้าใน List\n",
    "        - pos เป็นตำแหน่งที่ต้องการจะเพิ่มเข้าไปใน List\n",
    "    ฟังก์ชันนี้จะไม่คืนค่าใดๆ"
   ]
  },
  {
   "cell_type": "markdown",
   "metadata": {},
   "source": [
    "- สร้างฟังก์ชัน remove"
   ]
  },
  {
   "cell_type": "code",
   "execution_count": null,
   "metadata": {},
   "outputs": [],
   "source": [
    "def remove(self, pos):"
   ]
  },
  {
   "cell_type": "markdown",
   "metadata": {},
   "source": [
    "    ฟังก์ชันนี้รับค่าตัวแปร 1 ตัว คือ\n",
    "        - pos เป็นตำแหน่งที่ต้องการลบค่าใน List ออก\n",
    "    ฟังก์ชันนี้จะคืนค่า node ที่ถูกลบออก"
   ]
  },
  {
   "cell_type": "markdown",
   "execution_count": null,
   "metadata": {},
   "outputs": [],
   "source": [
    "- สร้างฟังก์ชัน print โดนใช้ def __str__(self)"
   ]
  },
  {
   "cell_type": "markdown",
   "metadata": {},
   "source": [
    "## Part 3\n",
    "\n",
    "ให้สร้างไฟล์ใหม่ ชื่อ test.py และใส่ code ต่อไปนี้\n"
   ]
  },
  {
   "cell_type": "code",
   "execution_count": null,
   "metadata": {},
   "outputs": [],
   "source": [
    "from Node import Node\n",
    "from LinkedList import LinkedList"
   ]
  },
  {
   "cell_type": "markdown",
   "execution_count": null,
   "metadata": {},
   "outputs": [],
   "source": [
    "หลังจากนั้น ให้สร้าง List ขึ้นมาแล้วลองทดสอบโดยการเพิ่ม Node และลองใช้ฟังก์ชันทั้งหมด ว่าสามารถทำงานอย่างถูกต้องหรือไม่\n",
    "\n",
    "**ในฟังก์ชันที่สร้างจะไม่เกิด Error ขึ้นเมื่อผู้ใช้ใช้งานผิดพลาด เช่น ลบ Node ที่ไม่มีอยู่ใน Linked List, และเมื่อมีการเพิ่ม Node เข้าไปในตำแหน่งแรกสุดหรือท้ายสุด**"
   ]
  },
  {
   "cell_type": "markdown",
   "metadata": {},
   "source": [
    "## Exercise 2\n",
    "ทำฟังก์ชั่น linked list ให้สามารถใช้งานได้ถูกต้องครบถ้วน โดยพี่ๆจะเข้าไปตรวจการทำงานแต่ละฟังก์ชั่น\n",
    "\n",
    "นอกจากนี้ ให้เปลี่ยนจาก Singly Linked List (Node ชี้ไปที่ Node ต่อไปได้ทิศเดียว) ให้กลายเป็น Doubly Linked List (Node สามารถชี้ไปที่ Node ถัดไป และ Node ก่อนหน้าได้) "
   ]
  },
  {
   "cell_type": "markdown",
   "execution_count": 4,
   "metadata": {},
   "outputs": [
    {
     "ename": "SyntaxError",
     "evalue": "invalid syntax (<ipython-input-4-24727e547966>, line 2)",
     "output_type": "error",
     "traceback": [
      "\u001b[0;36m  File \u001b[0;32m\"<ipython-input-4-24727e547966>\"\u001b[0;36m, line \u001b[0;32m2\u001b[0m\n\u001b[0;31m    ให้ส่งไฟล์ทั้งหมด และเขียนสิ่งที่เรียนรู้ และอธิบายว่า Lab นี้เกี่ยวกับเรื่อง Encapsulation ของข้อมูลอย่างไร\u001b[0m\n\u001b[0m                                            ^\u001b[0m\n\u001b[0;31mSyntaxError\u001b[0m\u001b[0;31m:\u001b[0m invalid syntax\n"
     ]
    }
   ],
   "source": [
    "## Postlab\n",
    "ให้ส่งไฟล์ทั้งหมด และเขียนสิ่งที่เรียนรู้ และอธิบายว่า Lab นี้เกี่ยวกับเรื่อง Encapsulation ของข้อมูลอย่างไร"
   ]
  },
  {
   "cell_type": "code",
   "execution_count": null,
   "metadata": {},
   "outputs": [],
   "source": []
  }
 ],
 "metadata": {
  "kernelspec": {
   "display_name": "Python 3.7.3 64-bit",
   "language": "python",
   "name": "python37364bit9bcfc2ab371c432a8bde101637292a40"
  },
  "language_info": {
   "codemirror_mode": {
    "name": "ipython",
    "version": 3
   },
   "file_extension": ".py",
   "mimetype": "text/x-python",
   "name": "python",
   "nbconvert_exporter": "python",
   "pygments_lexer": "ipython3",
   "version": "3.7.3-final"
  }
 },
 "nbformat": 4,
 "nbformat_minor": 2
}