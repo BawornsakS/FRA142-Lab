{
 "cells": [
  {
   "cell_type": "markdown",
   "metadata": {},
   "source": [
    "## Laboratory 1\n",
    "### Introduction to Object-Oriented Programming\n",
    "\n",
    "ใน Lab1 เราจะทำการศึกษาเกี่ยวกับการเขียน Class เบื้องต้นมาเริ่มกันเลย\n",
    "\n",
    "### Pre-Lab\n",
    "ให้ศึกษาและทบทวนเนื้อหาใน slide ของอ.โซ่ โดยเฉพาะ concept ของ OOP ให้คล่อง เนื่องจากเราจะใช้ concept เหล่านี้ใน lab\n",
    "\n",
    "### In-Lab\n",
    "\n",
    "\n",
    "การทำ Object-Oriented Programming (ต่อไปนี้จะเรียกว่า OOP) จะเพิ่มประสิทธิภาพการทำงานเชิงโปรแกรมมิ่งของเราให้มากขึ้น เราจะมีเครื่องมือที่ซับซ้อนขึ้น แต่สามารถทำงานที่ยิ่งใหญ่ขึ้นเช่นกัน มาดูตัวอย่าง code เชิง OOP กันดีกว่า"
   ]
  },
  {
   "cell_type": "code",
   "execution_count": 28,
   "metadata": {},
   "outputs": [],
   "source": [
    "class Person:\n",
    "    def __init__(self,name,age,height,items = []):\n",
    "        self.name = name       #This represents a list of rows in a warehouse.\n",
    "        self.age = age\n",
    "        self.height = height\n",
    "        self.items = items\n",
    "        \n",
    "    def older(self):\n",
    "        self.age += 1\n",
    "        \n",
    "    def addHeight(self,delta_height):\n",
    "        self.height += delta_height\n",
    "        \n",
    "    def addItem(self,item):\n",
    "        self.items.append(item)"
   ]
  },
  {
   "cell_type": "markdown",
   "metadata": {},
   "source": [
    "จากตัวอย่างโค้ดด้านบน เป็นการสร้าง class ที่มีชื่อว่า Person ซึ่งมีฟังก์ชั่น 4 ฟังก์ชันดังต่อไปนี้"
   ]
  },
  {
   "cell_type": "code",
   "execution_count": 1,
   "metadata": {},
   "outputs": [],
   "source": [
    "def __init__(self,name,age,height,items = []):\n",
    "    self.name = name       #This represents a list of rows in a warehouse.\n",
    "    self.age = age\n",
    "    self.height = height\n",
    "    self.items = items"
   ]
  },
  {
   "cell_type": "markdown",
   "metadata": {},
   "source": [
    "ฟังก์ชันแรกเรียกว่า constructor โดยจะเป็นฟังก์ชันที่ถูกเรียกใช้เมื่อมีการสร้าง object ของ class Person\n",
    "\n",
    "object นี้ เมื่อถูกสร้าง จะมีตัวแปร 4 ตัวคือ name age type และ items โดยกำหนดค่าแต่ละตัวให้เข้ากับ parameter ที่รับเข้ามา"
   ]
  },
  {
   "cell_type": "code",
   "execution_count": 7,
   "metadata": {},
   "outputs": [],
   "source": [
    "def older(self):\n",
    "    self.age += 1"
   ]
  },
  {
   "cell_type": "markdown",
   "metadata": {},
   "source": [
    "ในฟังก์ชั่นนี้มีชื่อว่า older สามารถใช้เมื่อต้องการเพิ่มค่าไป 1 ให้กับตัวแปร self.age ซึ่งก็คือตัวแปร age ของ object ที่อยู่ใน class Person"
   ]
  },
  {
   "cell_type": "code",
   "execution_count": 8,
   "metadata": {},
   "outputs": [],
   "source": [
    "def addHeight(self,delta_height):\n",
    "    self.height += delta_height"
   ]
  },
  {
   "cell_type": "markdown",
   "metadata": {},
   "source": [
    "ในฟังก์ชันที่ 3 ที่มีชื่อว่า addHeight จะทำการเพิ่มค่าของตัวแปร age ใน object ด้วย delta_height ที่เราใส่เข้าไปในฟังก์ชั่น"
   ]
  },
  {
   "cell_type": "code",
   "execution_count": 2,
   "metadata": {},
   "outputs": [],
   "source": [
    "def addItem(self,item):\n",
    "    self.items.append(item)"
   ]
  },
  {
   "cell_type": "markdown",
   "metadata": {},
   "source": [
    "ฟังก์ชั่นสุดท้ายมีชื่อว่า addItem จะทำการ append ของอะไรก็ตาม เข้าไปในตัวแปร items \n",
    "\n",
    "ให้ทุกคนลอง copy code ลงไปใน IDE ที่อยากใช้ (PyCharm, VSCode, IDLE, ...) แล้วลอง run ดู จะเกิดอะไรขึ้น?"
   ]
  },
  {
   "cell_type": "markdown",
   "metadata": {},
   "source": [
    "สิ่งที่เกิดขึ้นนั้น ไม่มีอะไรผิดไป เพราะเราแค่สร้าง class แต่ยังไม่ได้ใช้งานมัน ถัดไปจะเป็นส่วนของการสร้าง object ของ class ส่วนนี้ คือการที่เราจะเริ่มใช้ class ที่เราสร้างขึ้น โดยจะใช้โค้ดดังต่อไปนี้"
   ]
  },
  {
   "cell_type": "code",
   "execution_count": 3,
   "metadata": {},
   "outputs": [
    {
     "ename": "NameError",
     "evalue": "name 'Person' is not defined",
     "output_type": "error",
     "traceback": [
      "\u001b[0;31m---------------------------------------------------------------------------\u001b[0m",
      "\u001b[0;31mNameError\u001b[0m                                 Traceback (most recent call last)",
      "\u001b[0;32m<ipython-input-3-6d69cdd19ee5>\u001b[0m in \u001b[0;36m<module>\u001b[0;34m\u001b[0m\n\u001b[0;32m----> 1\u001b[0;31m \u001b[0mwawa\u001b[0m \u001b[0;34m=\u001b[0m \u001b[0mPerson\u001b[0m\u001b[0;34m(\u001b[0m\u001b[0;34m\"Wawa\"\u001b[0m\u001b[0;34m,\u001b[0m\u001b[0;36m70\u001b[0m\u001b[0;34m,\u001b[0m\u001b[0;36m100\u001b[0m\u001b[0;34m,\u001b[0m\u001b[0;34m[\u001b[0m\u001b[0;34m\"Julong\"\u001b[0m\u001b[0;34m]\u001b[0m\u001b[0;34m)\u001b[0m\u001b[0;34m\u001b[0m\u001b[0;34m\u001b[0m\u001b[0m\n\u001b[0m",
      "\u001b[0;31mNameError\u001b[0m: name 'Person' is not defined"
     ]
    }
   ],
   "source": [
    "p1 = Person(\"Wawa\",70,100,[\"Julong\"])"
   ]
  },
  {
   "cell_type": "markdown",
   "metadata": {},
   "source": [
    "เรากำลังสร้าง object ที่ชื่อว่า p1 โดยจะมีค่าตัวแปร name = \"Wawa\", age = 70, height = 100 และ items = [\"Julong\"]\n",
    "\n",
    "ทีนี้เรามาลองสร้าง object ที่ 2 กันดีกว่า"
   ]
  },
  {
   "cell_type": "code",
   "execution_count": 11,
   "metadata": {},
   "outputs": [],
   "source": [
    "p2 = Person(\"Fame\",20,175)"
   ]
  },
  {
   "cell_type": "markdown",
   "metadata": {},
   "source": [
    "สังเกตว่า เราสามารถเขียนโดยไม่กำหนดค่า items ได้ (ค่าitems จะถูกกำหนดให้เป็น [])\n",
    "\n",
    "เราสามารถเข้าถึงตัวแปรของ object ได้ตามรูปแบบต่อไปนี้"
   ]
  },
  {
   "cell_type": "code",
   "execution_count": 14,
   "metadata": {},
   "outputs": [
    {
     "name": "stdout",
     "output_type": "stream",
     "text": [
      "39\n"
     ]
    }
   ],
   "source": [
    "var = p1.age\n",
    "print(var)"
   ]
  },
  {
   "cell_type": "markdown",
   "metadata": {},
   "source": [
    "และสามารถใช้ฟังก์ชันของ objectได้ ตามรูปแบบต่อไปนี้"
   ]
  },
  {
   "cell_type": "code",
   "execution_count": 15,
   "metadata": {},
   "outputs": [
    {
     "name": "stdout",
     "output_type": "stream",
     "text": [
      "40\n"
     ]
    }
   ],
   "source": [
    "p1.older()\n",
    "print(p1.age)"
   ]
  },
  {
   "cell_type": "markdown",
   "metadata": {},
   "source": [
    "### Exercise 0:\n",
    "จงทำตามเงื่อนไขต่อไปนี้ (ใช้ object ฺp1 ต่อจากด้านบน โดยไม่แก้ไขโค้ดใน class)\n",
    "1. เปลี่ยนค่าของตัวแปร name ของ Blinkimon เป็น \"Baldy\" \n",
    "2. เพิ่มความสูงไป 1.5 (โดยใช้ฟังก์ชั่น addHeight)\n",
    "\n",
    "### Exercise 1:\n",
    "จงทำตามเงื่อนไขต่อไปนี้ (แก้ไขจากตัว class Person)\n",
    "1. สร้างฟังก์ชั่น becomeMr() ที่จะเติมข้อความ Mr. ข้างหน้าชื่อเดิม (เช่น จาก \"abc\" เป็น \"Mr.abc\")\n",
    "2. สร้างฟังก์ชั่น sellItem(item) ให้ลบ item นั้นออกจาก list items ของ object\n",
    "\n",
    "### Exercise 2:\n",
    "จงสร้าง class calculator ที่มีคุณสมบัติดังต่อไปนี้\n",
    "\n",
    "1. มี constructor ซึ่งมีตัวแปร history เป็น list ว่าง \n",
    "2. มีฟังก์ชั่น 4 ฟังก์ชั่น คือ plus(a,b) minus(a,b) multiply(a,b) divide(a,b) โดยแต่ละฟังก์ชั่นจะคืนค่าเป็น ผลลัพธ์ การ บวก ลบ คูณ และ หาร ระหว่าง a และ b ตามลำดับ\n",
    "3. ตัวแปร history เป็นตัวแปรประเภท list ที่เก็บประวัติการใช้เครื่องคิดเลขนี้โดยจะเก็บเป็นสตริง เช่น ถ้าเคยใช้ฟังก์ชั่น plus(1,7) และ minus(3,1) แล้ว ตัวแปร history จะมีค่าเป็น [\"1 + 7 = 8\",\"3 - 1 = 2\"] เป็นต้น\n"
   ]
  },
  {
   "cell_type": "markdown",
   "metadata": {},
   "source": [
    "ถัดไปจะเป็นการ print เพื่อคืนค่า object ของ class ที่ต้องการ\n",
    "\n",
    "ให้สร้างobject จาก Person class ที่สร้างไว้"
   ]
  },
  {
   "cell_type": "code",
   "execution_count": 26,
   "metadata": {},
   "outputs": [],
   "source": [
    "Kong = Person(\"P'kong\",16,700)"
   ]
  },
  {
   "cell_type": "markdown",
   "metadata": {},
   "source": [
    "ให้ลองใช้คำสั่ง print เพื่อแสดงผล สังเกตุผลลัพธ์ที่ได้"
   ]
  },
  {
   "cell_type": "code",
   "execution_count": 19,
   "metadata": {},
   "outputs": [
    {
     "name": "stdout",
     "output_type": "stream",
     "text": [
      "<__main__.Person object at 0x000002420B1035C0>\n"
     ]
    }
   ],
   "source": [
    "print(Kong)"
   ]
  },
  {
   "cell_type": "markdown",
   "metadata": {},
   "source": [
    "ทีนี้ให้ลองเพิ่งฟังก์ชั่นดังต่อไปนี้ลงใน class Person"
   ]
  },
  {
   "cell_type": "code",
   "execution_count": 22,
   "metadata": {},
   "outputs": [],
   "source": [
    "def __str__(self):\n",
    "    output = \"my name is \" + str(self.name) + \".\\n\"\n",
    "    output += \"I am \" + str(self.age) + \" years old.\"\n",
    "    return output"
   ]
  },
  {
   "cell_type": "markdown",
   "metadata": {},
   "source": [
    "จากนั้นให้ลองใช้คำสั่ง print อีกครั้ง และสังเกตุความเปลี่ยนแปลง"
   ]
  },
  {
   "cell_type": "code",
   "execution_count": 27,
   "metadata": {},
   "outputs": [
    {
     "name": "stdout",
     "output_type": "stream",
     "text": [
      "my name is P'kong.\n",
      "I am 16 years old.\n"
     ]
    }
   ],
   "source": [
    "print(Kong)"
   ]
  },
  {
   "cell_type": "markdown",
   "metadata": {},
   "source": [
    "### Exercise 3:\n",
    "จงเขียนโค้ดให้ class Person มีความสามารถที่ เมื่อสั่ง print จะแสดงผลในรูปแบบดังต่อไปนี้ \n",
    "({var} หมายถึงค่าของตัวแปร var)\n",
    "\n",
    "    My name is {name}.\n",
    "    My height is {height} cm.\n",
    "    \n",
    " ในบรรทัดถัดไป หาก height สูงกว่าความสูงของคุณ(ในหน่วย cm.)ให้คืนค่าเป็น\n",
    "    \n",
    "    And I am taller than you.\n",
    "    \n",
    " แต่ถ้าน้อยกว่าความสูงของคุณ ให้คืนค่าเป็น\n",
    "    \n",
    "    And I am smaller than you."
   ]
  },
  {
   "cell_type": "markdown",
   "execution_count": 3,
   "metadata": {},
   "outputs": [],
   "source": [
    "### Post-lab\n",
    "ให้ทุกคน submit code ทั้งหมด ใน LEB2 พร้อมทั้งเขียนสรุปไม่เกิน 1 หน้าว่า ได้เรียนรู้เรื่องอะไรไปใน Lab นี้ "
   ]
  },
  {
   "cell_type": "code",
   "execution_count": null,
   "metadata": {},
   "outputs": [],
   "source": []
  }
 ],
 "metadata": {
  "kernelspec": {
   "display_name": "Python 3",
   "language": "python",
   "name": "python3"
  },
  "language_info": {
   "codemirror_mode": {
    "name": "ipython",
    "version": 3
   },
   "file_extension": ".py",
   "mimetype": "text/x-python",
   "name": "python",
   "nbconvert_exporter": "python",
   "pygments_lexer": "ipython3",
   "version": "3.7.3"
  }
 },
 "nbformat": 4,
 "nbformat_minor": 2
}
