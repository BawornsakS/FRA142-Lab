{
 "cells": [
  {
   "cell_type": "markdown",
   "metadata": {},
   "source": [
    "# Pygame OOP, Event, UI\n",
    "\n",
    "ในแลปนี้เราจะทำการปรับ Code ที่ได้ทำมาให้เป็นแบบของ OOP เรียนรู้ Event ของ Pygame และทำการสร้าง UI\n",
    "\n",
    "\n",
    "# Part1: OOP\n",
    "\n",
    "## สร้าง Class Rec\n",
    "\n",
    "จากที่เราเคยได้วาดรูปวงกลมลงบน Screen ด้วยคำสั่ง pg.circle.draw() คราวนี้เราจะลองมาสร้างรูปสี่เหลี่ยมในรูปแบบ OOP โดยเริ่มจากสร้าง Class Rec ดังตัวอย่าง\n"
   ]
  },
  {
   "cell_type": "code",
   "execution_count": null,
   "metadata": {},
   "outputs": [],
   "source": [
    "class Rec:\n",
    "    def __init__(self,x=0,y=0,w=0,h=0):\n",
    "        self.x = x # Position X\n",
    "        self.y = y # Position Y\n",
    "        self.w = w # Width\n",
    "        self.h = h # Height\n",
    "    def draw(self,screen):\n",
    "        pg.draw.rect(screen,(120,20,220),(self.x,self.y,self.w,self.h))"
   ]
  },
  {
   "cell_type": "markdown",
   "metadata": {},
   "source": [
    "โดยเราก็จะสามารถวาดรูปได้โดยสร้าง Object ของ class Rec กำหนัดค่า x,y,w,h แล้วเรียกใช้ฟังก์ชัน draw() เพื่อสร้างรูปบน Screen"
   ]
  },
  {
   "cell_type": "code",
   "execution_count": null,
   "metadata": {},
   "outputs": [],
   "source": [
    "import sys \n",
    "import pygame as pg\n",
    "\n",
    "pg.init()\n",
    "run = True\n",
    "win_x, win_y = 800, 480\n",
    "screen = pg.display.set_mode((win_x, win_y))\n",
    "firstObject = Rec(20,20,100,100) # สร้าง Object จากคลาส Rec ขึ้นมา\n",
    "\n",
    "while(run):\n",
    "    screen.fill((255, 255, 255))\n",
    "    firstObject.draw(screen) # ใส่ Screen เข้าไปด้วยเพราะว่าคำสั่ง pg.draw.rect จะเป็นจะต้องระบุระนาบว่าต้องการสร้างรูปบนระนาบใด\n",
    "    pg.display.update()\n",
    "    \n",
    "    for event in pg.event.get():\n",
    "        if event.type == pg.QUIT:\n",
    "            pg.quit()\n",
    "            run = False\n",
    "    \n"
   ]
  },
  {
   "cell_type": "markdown",
   "metadata": {},
   "source": [
    "# สร้าง Button\n",
    "ลองสร้าง class button ที่สืบทอดมากจาก class Rec โดยที่มีฟังก์ชั่น isMouseOn ที่จะคืนค่าเป็น true เมื่อตำแหน่งของเมาส์อยู่บนวัตถุ"
   ]
  },
  {
   "cell_type": "code",
   "execution_count": null,
   "metadata": {},
   "outputs": [],
   "source": [
    "class Button(Rec):\n",
    "    def __init__(self, x=0, y=0, w=0, h=0):\n",
    "        Rec.__init__(self, x, y, w, h)\n",
    "    \n",
    "    def isMouseOn(self):\n",
    "        #Implement your code here\n",
    "        pass"
   ]
  },
  {
   "cell_type": "code",
   "execution_count": null,
   "metadata": {},
   "outputs": [],
   "source": [
    "import sys \n",
    "import pygame as pg\n",
    "\n",
    "pg.init()\n",
    "run = True\n",
    "win_x, win_y = 800, 480\n",
    "screen = pg.display.set_mode((win_x, win_y))\n",
    "btn = Button(20,20,100,100) # สร้าง Object จากคลาส Button ขึ้นมา\n",
    "\n",
    "while(run):\n",
    "    screen.fill((255, 255, 255))\n",
    "    if btn.isMouseOn():\n",
    "        btn.w = 200\n",
    "        btn.h = 300\n",
    "    else:\n",
    "        btn.w = 100\n",
    "        btn.h = 100\n",
    "    btn.draw(screen)\n",
    "    \n",
    "    pg.display.update()\n",
    "    for event in pg.event.get():\n",
    "        if event.type == pg.QUIT:\n",
    "            pg.quit()\n",
    "            run = False\n",
    "    "
   ]
  },
  {
   "cell_type": "markdown",
   "metadata": {},
   "source": [
    "## Exercise 0\n",
    "\n",
    "ทำความเข้าใจ code ทั้งหมดตั้งแต่ที่เขียนมาจนถึงตอนนี้ โดย TA อาจจะสุ่มถาม เช่น ความสำคัญของ display.update\n",
    "\n",
    "## Exercise 1\n",
    "จงสร้างปุ่มสีแดง เมื่อเอาเมาส์ไปวางบนปุ่มจะแสดงสีเทา แต่ถ้ากดค้างบนปุ่มจะแสดงสีม่วง (แก้ไข class ได้)\n",
    "\n",
    "---------------------"
   ]
  },
  {
   "cell_type": "markdown",
   "metadata": {},
   "source": [
    "# Part2 : Pygame Event\n",
    "Pygame will register all events from the user into an event queue which can be received with the code pygame.event.get(). Every element in this queue is an Event object and they'll all have the attribute type , which is an integer representing what kind of event it is.\n",
    "\n",
    "Pygame เก็บ events ทั้งหมดไว้ในรูปแบบของ queue โดยเราสามารถเข้าถึง event ต่างๆได้ จาก pg.event.get() ทุก ๆ event ใน queue นี้จะเป็น Event object และจะมีตัวเลขบอกว่าเป็น event ประเภทใด"
   ]
  },
  {
   "cell_type": "markdown",
   "metadata": {},
   "source": [
    "## Keyboard input\n",
    "จากที่เราเคยได้เขียนกันในคำสั่ง for event in pg.event.get(): ใช้คำสั่ง event.type == pg.KEYDOWN , event.type == pg.KEYUP เพื่อเชคว่าปุ่มถูกกดลงหรือหรือปล่อยหรือไม่ และเช็คชนิดของปุ่มที่โดนกดด้วยคำสั่ง event.key ดังตัวอย่างด้านล่าง"
   ]
  },
  {
   "cell_type": "code",
   "execution_count": null,
   "metadata": {},
   "outputs": [],
   "source": [
    "for event in pg.event.get():\n",
    "    if event.type == pg.QUIT:\n",
    "        pg.quit()\n",
    "\n",
    "    if event.type == pg.KEYDOWN and event.key == pg.K_d: #ปุ่มถูกกดลงและเป็นปุ่ม D\n",
    "        print(\"Key D down\")\n",
    "    if event.type == pg.KEYUP and event.key == pg.K_a: #ปุ่มถูกปล่อยและเป็นปุ่ม A\n",
    "        print(\"Key A up\")"
   ]
  },
  {
   "cell_type": "markdown",
   "metadata": {},
   "source": [
    "## Exercise 2\n",
    "\n",
    "ให้สร้างกล่องสี่เหลี่ยมขนาด 100*100 ที่เคลื่อนที่ในหน้าจอได้ด้วยการกดปุ่ม W A S D\n",
    "\n",
    "-------"
   ]
  },
  {
   "cell_type": "markdown",
   "metadata": {},
   "source": [
    "# Part3: UI"
   ]
  },
  {
   "cell_type": "markdown",
   "metadata": {},
   "source": [
    "## Text display\n",
    "ใน Pygame สามารถแสดงผล text ด้วย font ต่างๆได้ โดยการตั้งค่าต่อไปนี้ (ก่อน Loop run)"
   ]
  },
  {
   "cell_type": "code",
   "execution_count": null,
   "metadata": {},
   "outputs": [],
   "source": [
    "font = pg.font.Font('freesansbold.ttf', 32) # fontand fontsize\n",
    "text = font.render('eieiZa Fra142', True, white, (0,0,0)) # (text,is smooth?,letter color,background color)\n",
    "textRect = text.get_rect() # text size\n",
    "textRect.center = (win_x // 2, win_y // 2)"
   ]
  },
  {
   "cell_type": "markdown",
   "metadata": {},
   "source": [
    "และแสดงผลได้ด้วยคำสั่ง\n",
    "\n"
   ]
  },
  {
   "cell_type": "code",
   "execution_count": null,
   "metadata": {},
   "outputs": [],
   "source": [
    "screen.blit(text, textRect)"
   ]
  },
  {
   "cell_type": "markdown",
   "metadata": {},
   "source": [
    "## InputBox\n",
    "เมื่อต้องการพิมพ์ข้อความใน Pygame เราจะสร้าง class ที่เรียกว่า InputBox เพื่อรองรับหรือทำหน้าที่เป็นกล่องใส่ข้อความ โดยมีโค้ด(จากในเน็ต) ให้ดังนี้ "
   ]
  },
  {
   "cell_type": "code",
   "execution_count": null,
   "metadata": {},
   "outputs": [],
   "source": [
    "class InputBox:\n",
    "\n",
    "    def __init__(self, x, y, w, h, text=''):\n",
    "        self.rect = pg.Rect(x, y, w, h)\n",
    "        self.color = COLOR_INACTIVE\n",
    "        self.text = text\n",
    "        self.txt_surface = FONT.render(text, True, self.color)\n",
    "        self.active = False\n",
    "\n",
    "    def handle_event(self, event):\n",
    "        \n",
    "        if event.type == pg.MOUSEBUTTONDOWN:# ทำการเช็คว่ามีการคลิก Mouse หรือไม่\n",
    "            if self.rect.collidepoint(event.pos): #ทำการเช็คว่าตำแหน่งของ Mouse อยู่บน InputBox นี้หรือไม่\n",
    "                # Toggle the active variable.\n",
    "                self.active = not self.active\n",
    "            else:\n",
    "                self.active = False\n",
    "            self.color = COLOR_ACTIVE if self.active else COLOR_INACTIVE # เปลี่ยนสีของ InputBox\n",
    "            \n",
    "        if event.type == pg.KEYDOWN:\n",
    "            if self.active:\n",
    "                if event.key == pg.K_RETURN:\n",
    "                    print(self.text)\n",
    "                    self.text = ''\n",
    "                elif event.key == pg.K_BACKSPACE:\n",
    "                    self.text = self.text[:-1]\n",
    "                else:\n",
    "                    self.text += event.unicode\n",
    "                # Re-render the text.\n",
    "                self.txt_surface = FONT.render(self.text, True, self.color)\n",
    "\n",
    "    def update(self):\n",
    "        # Resize the box if the text is too long.\n",
    "        width = max(200, self.txt_surface.get_width()+10)\n",
    "        self.rect.w = width\n",
    "\n",
    "    def draw(self, Screen):\n",
    "        # Blit the text.\n",
    "        Screen.blit(self.txt_surface, (self.rect.x+5, self.rect.y+5))\n",
    "        # Blit the rect.\n",
    "        pg.draw.rect(Screen, self.color, self.rect, 2)"
   ]
  },
  {
   "cell_type": "code",
   "execution_count": null,
   "metadata": {},
   "outputs": [],
   "source": [
    "import sys\n",
    "import pygame as pg\n",
    "\n",
    "pg.init()\n",
    "win_x, win_y = 800, 480\n",
    "screen = pg.display.set_mode((win_x, win_y))\n",
    "\n",
    "COLOR_INACTIVE = pg.Color('lightskyblue3') # ตั้งตัวแปรให้เก็บค่าสี เพื่อนำไปใช้เติมสีให้กับกล่องข้อความตอนที่คลิกที่กล่องนั้นๆอยู่\n",
    "COLOR_ACTIVE = pg.Color('dodgerblue2')     # ^^^\n",
    "FONT = pg.font.Font(None, 32)\n",
    "\n",
    "input_box1 = InputBox(100, 100, 140, 32) # สร้าง InputBox1\n",
    "input_box2 = InputBox(100, 300, 140, 32) # สร้าง InputBox2\n",
    "input_boxes = [input_box1, input_box2] # เก็บ InputBox ไว้ใน list เพื่อที่จะสามารถนำไปเรียกใช้ได้ง่าย\n",
    "run = True\n",
    "\n",
    "while run:\n",
    "    screen.fill((255, 255, 255))\n",
    "    for box in input_boxes: # ทำการเรียก InputBox ทุกๆตัว โดยการ Loop เข้าไปยัง list ที่เราเก็บค่า InputBox ไว้\n",
    "        box.update() # เรียกใช้ฟังก์ชัน update() ของ InputBox\n",
    "        box.draw(screen) # เรียกใช้ฟังก์ชัน draw() ของ InputBox เพื่อทำการสร้างรูปบน Screen\n",
    "        \n",
    "    for event in pg.event.get():\n",
    "        for box in input_boxes:\n",
    "            box.handle_event(event)\n",
    "        if event.type == pg.QUIT:\n",
    "            pg.quit()\n",
    "            run = False\n",
    "\n",
    "    pg.time.delay(1)\n",
    "    pg.display.update()"
   ]
  },
  {
   "cell_type": "markdown",
   "metadata": {},
   "source": [
    "# Final Exercise \n",
    "ให้ทำความเข้าใจโค้ด input box และสร้างแบบฟอร์มที่ให้กรอกชื่อ ชื่อจริง และอายุ โดยช่องอายุจะใส่ได้แค่ตัวเลขเท่านั้น โดยมี format ประมาณนี้ และเมื่อกดปุ่มซับมิท ให้แสดง text ข้างล่างหน้าจอว่า Hello [firstname] [lastname] you are [age] years old  \n",
    "โดยใครทำแลปนี้ไม่ได้ จะถือว่ามีความผิดมหันต์ และต้องกลับไปเรียน 141 น่ารักๆ อิอิ จากพี่เฟมที่รักแต่อีฟ\n",
    "<img src=\"images/Lab7_01.jpg\">\n",
    "##  Extra \n",
    "    ให้ลองคิดว่าในระบบนี้ควรมีฟีเจอร์อะไรเพิ่มหรือไม่ และให้แก้ไขให้ระบบมีความสมบูรณ์มากขึ้น "
   ]
  },
  {
   "cell_type": "code",
   "execution_count": null,
   "metadata": {},
   "outputs": [],
   "source": []
  }
 ],
 "metadata": {
  "kernelspec": {
   "display_name": "Python 3",
   "language": "python",
   "name": "python3"
  },
  "language_info": {
   "codemirror_mode": {
    "name": "ipython",
    "version": 3
   },
   "file_extension": ".py",
   "mimetype": "text/x-python",
   "name": "python",
   "nbconvert_exporter": "python",
   "pygments_lexer": "ipython3",
   "version": "3.7.4"
  }
 },
 "nbformat": 4,
 "nbformat_minor": 2
}
