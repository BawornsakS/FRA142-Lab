{
 "cells": [
  {
   "cell_type": "markdown",
   "metadata": {
    "colab_type": "text",
    "id": "-55a1V5xc8Hf"
   },
   "source": [
    "# Lab 5: Recursion and Merge Sort\n"
   ]
  },
  {
   "cell_type": "markdown",
   "metadata": {
    "colab_type": "text",
    "id": "Oy3loDaj5mlr"
   },
   "source": [
    "# Objective\n",
    "- สามารถสร้างเเละใช้ Recursive Function ได้\n",
    "- สามารถสร้างฟังก์ชัน Merge Sort ได้\n",
    "\n",
    "ในแลปนี้จะให้ทำการสร้าง Algorithm ต่างๆโดยใช้หลักการของ Recursive Function(ฟังก์ชันแบบเวียนเกิด) โดย Recursive ฟังก์ชันจะเป็นฟังก์ชันที่เรียกตัวเองไปเรื่อยๆจนถึงจุดวกกลับ (Initial condition หรือบางคนเรียก Base case) "
   ]
  },
  {
   "cell_type": "markdown",
   "metadata": {},
   "source": [
    "วิธีการเขียน Recursive แบบง่ายๆ คือ\n",
    "\n",
    "        1. ต้องเข้าใจโจทย์ให้ชัดเจนก่อน\n",
    "        2. หาจุดวกกลับ จุดที่หยุดการเรียกตัวเองซ้ำ\n",
    "        3. หาขั้นตอนที่เรียกตัวเองซ้ำ\n",
    "\n",
    "รูปแบบทั่วไปของรีเคอร์ซีฟมักจะเป็นแบบนี้"
   ]
  },
  {
   "cell_type": "code",
   "execution_count": null,
   "metadata": {},
   "outputs": [],
   "source": [
    "def function():\n",
    "    if( เงื่อนไขที่ทำให้หยุดการเรียกตัวเองซ้ำ base case)\n",
    "        return คำตอบของ base case\n",
    "    else:\n",
    "        #แยกปัญหาเป็นประเด็นย่อย เรียกตัวเองซ้ำ recursive case\n",
    "        return คำตอบในรูปแบบของฟังก์ชั่นตัวเอง"
   ]
  },
  {
   "cell_type": "markdown",
   "metadata": {},
   "source": [
    "ยกตัวอย่างเช่นฟังก์ชัน Factorial() สามารถเขียนในรูปของฟังก์ชัน Recursive ดังต่อไปนี้"
   ]
  },
  {
   "attachments": {},
   "cell_type": "markdown",
   "metadata": {},
   "source": [
    "<img src=\"images/image.png\">\n",
    "\n",
    "จากรูปดังกล่าว จะเห็นได้ว่า\n",
    "<ul>\n",
    "    <li>factorial(3) จะทำการคืนค่าของ 3 คูณกับ factorial(2)</li>\n",
    "    <li>factorial(2) จะทำการคืนค่าของ 2 คูณกับ factorial(1)</li>\n",
    "    <li>factorial(1) จะทำการคืนค่า 1 โดยไม่เรียกใช้ฟังก์ชันตัวเองต่อ หรือคือจุดวกกลับ (Base case) </li>\n",
    "    </ul>\n",
    "ซึ่งสามารถเขียนโค้ดได้ตามด้านล่างนี้\n"
   ]
  },
  {
   "cell_type": "code",
   "execution_count": null,
   "metadata": {
    "colab": {},
    "colab_type": "code",
    "id": "7ekKwnQ4vdLS"
   },
   "outputs": [],
   "source": [
    "def factorial(n):\n",
    "    if n == 0:\n",
    "        return 1\n",
    "    else:\n",
    "        return n*factorial(n-1)"
   ]
  },
  {
   "cell_type": "markdown",
   "metadata": {},
   "source": [
    "จากเงื่อนไข\n",
    "\n",
    "if n == 0:\n",
    "    return 1\n",
    "\n",
    "เป็นส่วนของ Base case ที่จะทำให้ฟังก์ชัน Factorial() หยุดการเรียกใช้ตัวเอง และคืนค่าออกไปตามที่กำหนด\n",
    "\n",
    "ans = n*Factorial(n-1)\n",
    "\n",
    "เป็นส่วนที่จะเรียกใช้ฟังก์ชันตัวเอง โดยที่มีพารามิเตอร์แตกต่างจากเดิม"
   ]
  },
  {
   "cell_type": "markdown",
   "metadata": {
    "colab_type": "text",
    "id": "4bbCAGdzBmSC"
   },
   "source": [
    "# Exercise 1.1\n",
    "จงสร้างฟังชั่น multiply(a,b) โดยใช้หลักการของฟังก์ชัน recursive  โดยฟังก์ชันมีข้อกำหนดต่อไปนี้\n",
    "<ul>\n",
    "    <li>ห้ามใช้ operator *</li>\n",
    "    <li>ห้ามใช้ for loop ในฟังก์ชัน</li>\n",
    "    <li>คืนค่าเป็นผลคูณของ a และ b</li>\n",
    "</ul>"
   ]
  },
  {
   "cell_type": "code",
   "execution_count": null,
   "metadata": {
    "colab": {},
    "colab_type": "code",
    "id": "EM60QpZmB4gD"
   },
   "outputs": [],
   "source": [
    "def multiply(a,b):\n",
    "    pass"
   ]
  },
  {
   "cell_type": "markdown",
   "metadata": {
    "colab_type": "text",
    "id": "7UO3hajPBJKD"
   },
   "source": [
    "# Exercise 1.2\n",
    "จงสร้างฟังชั่น fibonacci ที่ return list ของตัวเลข โดยใช้หลักการของ Recursive Function"
   ]
  },
  {
   "cell_type": "code",
   "execution_count": null,
   "metadata": {
    "colab": {},
    "colab_type": "code",
    "id": "CuHeaqnm94ps"
   },
   "outputs": [],
   "source": [
    "def fibonacci(n):\n",
    "    pass"
   ]
  },
  {
   "cell_type": "markdown",
   "metadata": {},
   "source": [
    "# Exercise 1.2.5\n",
    "\n",
    "ลองเรียกใช้ fibonacci(10000000000) จากนั้นสังเกตุและอธิบายผลลัพธ์ที่เกิดขึ้น"
   ]
  },
  {
   "cell_type": "markdown",
   "metadata": {
    "colab_type": "text",
    "id": "Acfib5qkDB75"
   },
   "source": [
    "# Exercise 2\n",
    "\n",
    "Merge Sort: https://www.youtube.com/watch?v=JSceec-wEyw\n",
    "\n",
    "จงสร้างคลาส Merge ที่ Inherit มาจากคลาส Sort"
   ]
  },
  {
   "cell_type": "code",
   "execution_count": null,
   "metadata": {},
   "outputs": [],
   "source": []
  }
 ],
 "metadata": {
  "colab": {
   "authorship_tag": "ABX9TyNuve6rTERhISz/bM7nEmMo",
   "collapsed_sections": [],
   "name": "LAB.ipynb",
   "provenance": []
  },
  "kernelspec": {
   "display_name": "Python 3",
   "language": "python",
   "name": "python3"
  },
  "language_info": {
   "codemirror_mode": {
    "name": "ipython",
    "version": 3
   },
   "file_extension": ".py",
   "mimetype": "text/x-python",
   "name": "python",
   "nbconvert_exporter": "python",
   "pygments_lexer": "ipython3",
   "version": "3.7.4"
  }
 },
 "nbformat": 4,
 "nbformat_minor": 1
}
